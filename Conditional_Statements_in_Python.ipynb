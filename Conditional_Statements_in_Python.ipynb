{
  "nbformat": 4,
  "nbformat_minor": 0,
  "metadata": {
    "colab": {
      "provenance": [],
      "authorship_tag": "ABX9TyONxv1LMKCf3qY9Cb/Qladj",
      "include_colab_link": true
    },
    "kernelspec": {
      "name": "python3",
      "display_name": "Python 3"
    },
    "language_info": {
      "name": "python"
    }
  },
  "cells": [
    {
      "cell_type": "markdown",
      "metadata": {
        "id": "view-in-github",
        "colab_type": "text"
      },
      "source": [
        "<a href=\"https://colab.research.google.com/github/JorizNathanielAngue/CPEN-21A-PLD-1-2/blob/main/Conditional_Statements_in_Python.ipynb\" target=\"_parent\"><img src=\"https://colab.research.google.com/assets/colab-badge.svg\" alt=\"Open In Colab\"/></a>"
      ]
    },
    {
      "cell_type": "markdown",
      "source": [
        "#Example 1\n",
        "####Write a program that determines if the input age is qualified to vote or not. The qualifying age is 18 years old and above."
      ],
      "metadata": {
        "id": "wbhvPP9EIXZj"
      }
    },
    {
      "cell_type": "code",
      "source": [
        "print(\"Enter your age:\")\n",
        "Age=int(input())\n",
        "if Age>=18:\n",
        "  print(\"Your age is qualified to vote.\")\n",
        "else:\n",
        "  print(\"Your age is not qualified to vote.\")"
      ],
      "metadata": {
        "colab": {
          "base_uri": "https://localhost:8080/"
        },
        "id": "tNFhV4ryJiRp",
        "outputId": "81e1cfeb-428b-46a3-9941-f7e24cfcad4c"
      },
      "execution_count": null,
      "outputs": [
        {
          "output_type": "stream",
          "name": "stdout",
          "text": [
            "Enter your age:\n",
            "24\n",
            "Your age is qualified to vote.\n"
          ]
        }
      ]
    },
    {
      "cell_type": "markdown",
      "source": [
        "#Example 2\n",
        "####Write a program that determines if the input number is POSITIVE, NEGATIVE, or ZERO"
      ],
      "metadata": {
        "id": "C1oDSiuKK0GC"
      }
    },
    {
      "cell_type": "code",
      "source": [
        "print(\"Input number:\")\n",
        "x=int(input())\n",
        "if x>0:\n",
        "  print(\"The number is positive.\")\n",
        "elif x==0:\n",
        "  print(\"The number is zero.\")\n",
        "else:\n",
        "  print(\"The number is negative.\")\n"
      ],
      "metadata": {
        "id": "mxaOsgj_K6-q",
        "colab": {
          "base_uri": "https://localhost:8080/"
        },
        "outputId": "34e9c099-3bee-4f3d-cbf9-8394578c90b3"
      },
      "execution_count": 15,
      "outputs": [
        {
          "output_type": "stream",
          "name": "stdout",
          "text": [
            "Input number:\n",
            "45\n",
            "The number is positive.\n"
          ]
        }
      ]
    },
    {
      "cell_type": "markdown",
      "source": [
        "#Example 3\n",
        "####Write a program to determine if the grades are:\n",
        "\n",
        "If:\n",
        "\n",
        "grade > = 75 , “Passed”\n",
        "\n",
        "grade = 74, “Remedial”\n",
        "\n",
        "grade < 74, “Failed”\n",
        "\n",
        "note: if grade is a negative number, it will not accepted"
      ],
      "metadata": {
        "id": "pNDnmnVVOwYq"
      }
    },
    {
      "cell_type": "code",
      "source": [
        "print(\"Input grade:\")\n",
        "grade=int(input())\n",
        "if grade<=0:\n",
        "  print(\"Grade not accepted\")\n",
        "if grade<74:\n",
        "  print(\"Failed\")\n",
        "elif grade==74:\n",
        "  print(\"Remedial\")\n",
        "else:\n",
        "  print(\"Passed\")\n"
      ],
      "metadata": {
        "id": "Upcb6wDsO6Hb",
        "colab": {
          "base_uri": "https://localhost:8080/"
        },
        "outputId": "4b6ef6ad-8644-43c6-d9a2-1935da67210e"
      },
      "execution_count": 31,
      "outputs": [
        {
          "output_type": "stream",
          "name": "stdout",
          "text": [
            "Input grade:\n",
            "81\n",
            "Passed\n"
          ]
        }
      ]
    }
  ]
}