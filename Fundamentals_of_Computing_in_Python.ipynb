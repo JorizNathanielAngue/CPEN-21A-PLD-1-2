{
  "nbformat": 4,
  "nbformat_minor": 0,
  "metadata": {
    "colab": {
      "provenance": [],
      "toc_visible": true,
      "authorship_tag": "ABX9TyOqpeYo+hDvBMtnrscj93Ni",
      "include_colab_link": true
    },
    "kernelspec": {
      "name": "python3",
      "display_name": "Python 3"
    },
    "language_info": {
      "name": "python"
    }
  },
  "cells": [
    {
      "cell_type": "markdown",
      "metadata": {
        "id": "view-in-github",
        "colab_type": "text"
      },
      "source": [
        "<a href=\"https://colab.research.google.com/github/JorizNathanielAngue/CPEN-21A-PLD-1-2/blob/main/Fundamentals_of_Computing_in_Python.ipynb\" target=\"_parent\"><img src=\"https://colab.research.google.com/assets/colab-badge.svg\" alt=\"Open In Colab\"/></a>"
      ]
    },
    {
      "cell_type": "markdown",
      "source": [],
      "metadata": {
        "id": "HBGD4TuDlRMg"
      }
    },
    {
      "cell_type": "markdown",
      "source": [
        "#Variables and Data Types"
      ],
      "metadata": {
        "id": "aRV2JihigqG3"
      }
    },
    {
      "cell_type": "code",
      "source": [
        "#Numbers\n",
        "varNum = 123\n",
        "pi = 3.14159"
      ],
      "metadata": {
        "id": "O56ImUYllgLP"
      },
      "execution_count": null,
      "outputs": []
    },
    {
      "cell_type": "code",
      "source": [
        "#Strings\n",
        "varString = \"Hello World!\"\n",
        "varText = 'This is a String'"
      ],
      "metadata": {
        "id": "B7CeTE4wlvWn"
      },
      "execution_count": null,
      "outputs": []
    },
    {
      "cell_type": "code",
      "source": [
        "#Lists\n",
        "varList = {\"abc\", 123}"
      ],
      "metadata": {
        "id": "UhAueMt0mMtv"
      },
      "execution_count": null,
      "outputs": []
    },
    {
      "cell_type": "code",
      "source": [
        "#Tuples\n",
        "varTuple = (\"abc\",123, \"HELLO\")"
      ],
      "metadata": {
        "id": "U3UWva8HmZvH"
      },
      "execution_count": null,
      "outputs": []
    },
    {
      "cell_type": "code",
      "source": [
        "#Dictionaries\n",
        "varDict = {\"first\":1, \"2\":\"2nd\", 3:var}\n",
        "print(varDict[\"first\"])"
      ],
      "metadata": {
        "colab": {
          "base_uri": "https://localhost:8080/"
        },
        "id": "8XZnJwqiml4o",
        "outputId": "5222dbf9-fb3a-4202-b45a-802ffdd4c091"
      },
      "execution_count": 7,
      "outputs": [
        {
          "output_type": "stream",
          "name": "stdout",
          "text": [
            "1\n"
          ]
        }
      ]
    },
    {
      "cell_type": "markdown",
      "source": [
        "#Arithmetic"
      ],
      "metadata": {
        "id": "rB7TwXTOpps5"
      }
    },
    {
      "cell_type": "code",
      "source": [
        "#Addition\n",
        "a = 5+3\n",
        "print(a)"
      ],
      "metadata": {
        "colab": {
          "base_uri": "https://localhost:8080/"
        },
        "id": "lKSoojmAptgs",
        "outputId": "413bc976-93b0-4399-e552-13546ebd87c3"
      },
      "execution_count": 11,
      "outputs": [
        {
          "output_type": "stream",
          "name": "stdout",
          "text": [
            "8\n"
          ]
        }
      ]
    },
    {
      "cell_type": "code",
      "source": [
        "#Subtraction\n",
        "a = 5-3\n",
        "print(a)"
      ],
      "metadata": {
        "colab": {
          "base_uri": "https://localhost:8080/"
        },
        "id": "Pyj4CTQLp5Kg",
        "outputId": "93a82dea-ec56-4ae0-e962-70b8d1e67e41"
      },
      "execution_count": 12,
      "outputs": [
        {
          "output_type": "stream",
          "name": "stdout",
          "text": [
            "2\n"
          ]
        }
      ]
    },
    {
      "cell_type": "code",
      "source": [
        "#Multiplication\n",
        "a = 5*3\n",
        "print(a)"
      ],
      "metadata": {
        "colab": {
          "base_uri": "https://localhost:8080/"
        },
        "id": "mB-seIbpp_qg",
        "outputId": "2d8c1b43-b91a-433b-9ae9-93122b9bf9c4"
      },
      "execution_count": 15,
      "outputs": [
        {
          "output_type": "stream",
          "name": "stdout",
          "text": [
            "15\n"
          ]
        }
      ]
    },
    {
      "cell_type": "code",
      "source": [
        "#Exponent\n",
        "a = 5**3\n",
        "print(a)"
      ],
      "metadata": {
        "colab": {
          "base_uri": "https://localhost:8080/"
        },
        "id": "z7-2j55kqIro",
        "outputId": "6bf0472a-2a73-4a11-abdb-2dcaf844a008"
      },
      "execution_count": 16,
      "outputs": [
        {
          "output_type": "stream",
          "name": "stdout",
          "text": [
            "125\n"
          ]
        }
      ]
    },
    {
      "cell_type": "code",
      "source": [
        "#Division\n",
        "x = 5 / 3\n",
        "print(x)\n",
        "y = 5 % 3\n",
        "print(y)\n",
        "z = 5 // 3\n",
        "print(z)"
      ],
      "metadata": {
        "colab": {
          "base_uri": "https://localhost:8080/"
        },
        "id": "CmaMo1vBqT4R",
        "outputId": "67a40967-165f-45ea-d0b2-18e27a6db385"
      },
      "execution_count": 17,
      "outputs": [
        {
          "output_type": "stream",
          "name": "stdout",
          "text": [
            "1.6666666666666667\n",
            "2\n",
            "1\n"
          ]
        }
      ]
    },
    {
      "cell_type": "code",
      "source": [
        "#Increment\n",
        "b = 5\n",
        "b += 1\n",
        "print(b)"
      ],
      "metadata": {
        "colab": {
          "base_uri": "https://localhost:8080/"
        },
        "id": "NGR9dr73qipx",
        "outputId": "51b8d02f-2051-4456-ca03-753d932dd721"
      },
      "execution_count": 18,
      "outputs": [
        {
          "output_type": "stream",
          "name": "stdout",
          "text": [
            "6\n"
          ]
        }
      ]
    },
    {
      "cell_type": "code",
      "source": [
        "#Decrement\n",
        "c = 5\n",
        "c -= 1\n",
        "print(c)"
      ],
      "metadata": {
        "colab": {
          "base_uri": "https://localhost:8080/"
        },
        "id": "hYxgndFNqouQ",
        "outputId": "72f493da-5510-423b-fb0e-b9ab1151b039"
      },
      "execution_count": 19,
      "outputs": [
        {
          "output_type": "stream",
          "name": "stdout",
          "text": [
            "4\n"
          ]
        }
      ]
    },
    {
      "cell_type": "code",
      "source": [
        "#String Concatenation\n",
        "d = \"Hello, \"+\"World!\"\n",
        "print(d)"
      ],
      "metadata": {
        "colab": {
          "base_uri": "https://localhost:8080/"
        },
        "id": "yoKifdNYq29C",
        "outputId": "47057f95-ad01-4e0b-8dc3-5de9eb415761"
      },
      "execution_count": 22,
      "outputs": [
        {
          "output_type": "stream",
          "name": "stdout",
          "text": [
            "Hello, World!\n"
          ]
        }
      ]
    },
    {
      "cell_type": "code",
      "source": [
        "#Complex Expressions\n",
        "e = 3+5-6*2/4\n",
        "print (e)"
      ],
      "metadata": {
        "colab": {
          "base_uri": "https://localhost:8080/"
        },
        "id": "z8EIrShDrGR7",
        "outputId": "077bf1dd-13e4-4ef2-882e-443e10f3bb8f"
      },
      "execution_count": 24,
      "outputs": [
        {
          "output_type": "stream",
          "name": "stdout",
          "text": [
            "5.0\n"
          ]
        }
      ]
    },
    {
      "cell_type": "markdown",
      "source": [
        "#Conditional Statements"
      ],
      "metadata": {
        "id": "8k3xW5Wwregz"
      }
    },
    {
      "cell_type": "code",
      "source": [
        "#Boolean Conditions\n",
        "x = True\n",
        "if x:\n",
        "  print (\"var x is true\")\n",
        "else:\n",
        "  print (\"var x is false\")"
      ],
      "metadata": {
        "colab": {
          "base_uri": "https://localhost:8080/"
        },
        "id": "yTJdjbW_radb",
        "outputId": "1a334782-1096-46d7-a458-cd50c6c7c589"
      },
      "execution_count": 27,
      "outputs": [
        {
          "output_type": "stream",
          "name": "stdout",
          "text": [
            "var x is true\n"
          ]
        }
      ]
    },
    {
      "cell_type": "code",
      "source": [
        "#String Conditions\n",
        "y=\"Hello, World!\"\n",
        "\n",
        "if y==\"Hello, World!\":\n",
        "  print(\"var y is Hello, World!\")\n",
        "else:\n",
        "  print(\"var y is not Hello, World!\")"
      ],
      "metadata": {
        "colab": {
          "base_uri": "https://localhost:8080/"
        },
        "id": "_hfxDEB4sAqf",
        "outputId": "0cc45059-3e1d-4cd5-cbe8-1e3b34304d92"
      },
      "execution_count": 33,
      "outputs": [
        {
          "output_type": "stream",
          "name": "stdout",
          "text": [
            "var y is Hello, World!\n"
          ]
        }
      ]
    },
    {
      "cell_type": "code",
      "source": [
        "#Numerical Conditions\n",
        "\n",
        "z=10\n",
        "\n",
        "if z=='10':\n",
        "  print('var z is a string')\n",
        "elif z==10:\n",
        "  print('var z is an integer')\n",
        "else:\n",
        "  print('var z is none of the above')"
      ],
      "metadata": {
        "colab": {
          "base_uri": "https://localhost:8080/"
        },
        "id": "PnsKjqtDueTS",
        "outputId": "f014c1d7-e9c6-4599-f9e1-a76e269f9bac"
      },
      "execution_count": 36,
      "outputs": [
        {
          "output_type": "stream",
          "name": "stdout",
          "text": [
            "var z is an integer\n"
          ]
        }
      ]
    },
    {
      "cell_type": "markdown",
      "source": [
        "#Loops"
      ],
      "metadata": {
        "id": "vwTFE2Xfwt6b"
      }
    },
    {
      "cell_type": "code",
      "source": [
        "#For Loops\n",
        "for var in range(0,5,2):\n",
        "  print(var)"
      ],
      "metadata": {
        "colab": {
          "base_uri": "https://localhost:8080/"
        },
        "id": "ASkyehizyUrS",
        "outputId": "ad2e6b1a-b945-4b6e-c0b1-d68dfa10ed17"
      },
      "execution_count": 39,
      "outputs": [
        {
          "output_type": "stream",
          "name": "stdout",
          "text": [
            "0\n",
            "2\n",
            "4\n"
          ]
        }
      ]
    },
    {
      "cell_type": "code",
      "source": [
        "#While Loops\n",
        "var=0\n",
        "while var<5:\n",
        "  print (var)\n",
        "  var+=2"
      ],
      "metadata": {
        "colab": {
          "base_uri": "https://localhost:8080/"
        },
        "id": "YAvoLncwyik5",
        "outputId": "3c825d7f-0411-473e-d7cd-4994aa9bcd82"
      },
      "execution_count": 46,
      "outputs": [
        {
          "output_type": "stream",
          "name": "stdout",
          "text": [
            "0\n",
            "2\n",
            "4\n"
          ]
        }
      ]
    },
    {
      "cell_type": "code",
      "source": [
        "#Nested Loops\n",
        "a = 0\n",
        "while a < 5:\n",
        "  for b in range(0, a):\n",
        "    print(b, end=\"\")\n",
        "  a += 1\n",
        "  print()"
      ],
      "metadata": {
        "colab": {
          "base_uri": "https://localhost:8080/"
        },
        "id": "uQmz1NZ7zDZV",
        "outputId": "da4f7f4b-6ff1-4493-e818-4c1458e5cff8"
      },
      "execution_count": 48,
      "outputs": [
        {
          "output_type": "stream",
          "name": "stdout",
          "text": [
            "\n",
            "0\n",
            "01\n",
            "012\n",
            "0123\n"
          ]
        }
      ]
    },
    {
      "cell_type": "markdown",
      "source": [
        "#Functions"
      ],
      "metadata": {
        "id": "GOElP7Y4zT4e"
      }
    },
    {
      "cell_type": "code",
      "source": [
        "def remainder(n,m):\n",
        "  while True:\n",
        "    if n-m<0:\n",
        "      return n\n",
        "    else:\n",
        "      n=n-m\n",
        "remainder(10,4)"
      ],
      "metadata": {
        "colab": {
          "base_uri": "https://localhost:8080/"
        },
        "id": "Ds_WBj7ZzcHK",
        "outputId": "63256a59-82a1-4be6-9e4f-6a81dfd8fc71"
      },
      "execution_count": 49,
      "outputs": [
        {
          "output_type": "execute_result",
          "data": {
            "text/plain": [
              "2"
            ]
          },
          "metadata": {},
          "execution_count": 49
        }
      ]
    },
    {
      "cell_type": "markdown",
      "source": [
        "#Lists"
      ],
      "metadata": {
        "id": "pWVXO-Frz4Ay"
      }
    },
    {
      "cell_type": "code",
      "source": [
        "pi=3.14159\n",
        "varList=[1,2,'a','b',\"Hello!\",pi]\n",
        "\n",
        "print(varList[0])\n",
        "print(varList[4])\n",
        "varList.append(\"World!\")\n",
        "print(varList[6])\n",
        "len(varList)\n",
        "print(varList[5])\n",
        "varList.remove(pi)\n",
        "print(varList[5])"
      ],
      "metadata": {
        "colab": {
          "base_uri": "https://localhost:8080/"
        },
        "id": "nWnVpBwJz5WJ",
        "outputId": "babee6b4-1ac8-4adf-f8a3-2ee10601a283"
      },
      "execution_count": 55,
      "outputs": [
        {
          "output_type": "stream",
          "name": "stdout",
          "text": [
            "1\n",
            "Hello!\n",
            "World!\n",
            "3.14159\n",
            "World!\n"
          ]
        }
      ]
    },
    {
      "cell_type": "markdown",
      "source": [
        "#Dictionaries"
      ],
      "metadata": {
        "id": "VjnoxlUY1P3c"
      }
    },
    {
      "cell_type": "code",
      "source": [
        "var=\"Horror!\"\n",
        "varDict = {'favorite': 'Mystery!', 'second favorite':'Thriller', 'like':var, 'only when necessary':['Teen Fiction', 'Fantasy']}\n",
        "\n",
        "print('My top genre in reading is '+varDict['favorite'])\n",
        "print('And mystery almost always go with '+varDict['second favorite'])\n",
        "print('My first loved genre back then was '+varDict['like'])\n",
        "print('I dont really read '+varDict['only when necessary'][1]+' and '+varDict['only when necessary'][0])\n",
        "len(varDict)"
      ],
      "metadata": {
        "colab": {
          "base_uri": "https://localhost:8080/"
        },
        "id": "tdmfJUkO1Sjc",
        "outputId": "9e23b87a-0d7f-4e37-d096-1c1c75da9653"
      },
      "execution_count": 79,
      "outputs": [
        {
          "output_type": "stream",
          "name": "stdout",
          "text": [
            "My top genre in reading is Mystery!\n",
            "And mystery almost always go with Thriller\n",
            "My first loved genre back then was Horror!\n",
            "I dont really read Fantasy and Teen Fiction\n"
          ]
        },
        {
          "output_type": "execute_result",
          "data": {
            "text/plain": [
              "4"
            ]
          },
          "metadata": {},
          "execution_count": 79
        }
      ]
    },
    {
      "cell_type": "markdown",
      "source": [
        "#List Generators and Comprehension"
      ],
      "metadata": {
        "id": "El05fA5j5Z7V"
      }
    },
    {
      "cell_type": "code",
      "source": [
        "def gen_num_up_to(n):\n",
        "  num=0\n",
        "  while num<n:\n",
        "    yield num\n",
        "    num+=1\n",
        "\n",
        "varList=gen_num_up_to(7)\n",
        "print([var for var in varList])"
      ],
      "metadata": {
        "colab": {
          "base_uri": "https://localhost:8080/"
        },
        "id": "rMDj2cF95ZUD",
        "outputId": "ed2ec2d8-fcbd-44c0-a327-0d8e5196d1e8"
      },
      "execution_count": 91,
      "outputs": [
        {
          "output_type": "stream",
          "name": "stdout",
          "text": [
            "[0, 1, 2, 3, 4, 5, 6]\n"
          ]
        }
      ]
    },
    {
      "cell_type": "code",
      "source": [
        "def gen_num_up_to(n):\n",
        "  num=2\n",
        "  while num<n:\n",
        "    yield num\n",
        "    num+=5\n",
        "\n",
        "varList=gen_num_up_to(20)\n",
        "print([var for var in varList])"
      ],
      "metadata": {
        "colab": {
          "base_uri": "https://localhost:8080/"
        },
        "id": "LzNNgmde6odS",
        "outputId": "fe832340-ec84-45ba-f935-5f78ed300e6a"
      },
      "execution_count": 93,
      "outputs": [
        {
          "output_type": "stream",
          "name": "stdout",
          "text": [
            "[2, 7, 12, 17]\n"
          ]
        }
      ]
    },
    {
      "cell_type": "code",
      "source": [
        "varList=range(0,5,2)\n",
        "print([var for var in varList])"
      ],
      "metadata": {
        "colab": {
          "base_uri": "https://localhost:8080/"
        },
        "id": "KKJbd_Tu6y6F",
        "outputId": "b88312b9-f960-4fbe-f36f-a0e23cabe864"
      },
      "execution_count": 97,
      "outputs": [
        {
          "output_type": "stream",
          "name": "stdout",
          "text": [
            "[0, 2, 4]\n"
          ]
        }
      ]
    },
    {
      "cell_type": "markdown",
      "source": [
        "#Slicing"
      ],
      "metadata": {
        "id": "u_1pFUry7Ibp"
      }
    },
    {
      "cell_type": "code",
      "source": [
        "varList = [1,2,3,4,5,6,7,8,9,10,11]\n",
        "print(varList[:5])"
      ],
      "metadata": {
        "colab": {
          "base_uri": "https://localhost:8080/"
        },
        "id": "beRQVROq2Tcd",
        "outputId": "fb7cd088-fef8-411a-ee05-769c02e5383b"
      },
      "execution_count": 98,
      "outputs": [
        {
          "output_type": "stream",
          "name": "stdout",
          "text": [
            "[1, 2, 3, 4, 5]\n"
          ]
        }
      ]
    },
    {
      "cell_type": "code",
      "source": [
        "print(varList[5:])"
      ],
      "metadata": {
        "colab": {
          "base_uri": "https://localhost:8080/"
        },
        "id": "RqbmtCfb7Sx2",
        "outputId": "c3a31b73-410e-4803-a06c-45278aec29cb"
      },
      "execution_count": 99,
      "outputs": [
        {
          "output_type": "stream",
          "name": "stdout",
          "text": [
            "[6, 7, 8, 9, 10, 11]\n"
          ]
        }
      ]
    },
    {
      "cell_type": "code",
      "source": [
        "print(varList[5:-2])"
      ],
      "metadata": {
        "colab": {
          "base_uri": "https://localhost:8080/"
        },
        "id": "dwsUWp4Z7XrH",
        "outputId": "61e4a640-619a-426c-bc39-65d27c5e0e88"
      },
      "execution_count": 100,
      "outputs": [
        {
          "output_type": "stream",
          "name": "stdout",
          "text": [
            "[6, 7, 8, 9]\n"
          ]
        }
      ]
    },
    {
      "cell_type": "code",
      "source": [
        "print(varList[-2:])"
      ],
      "metadata": {
        "colab": {
          "base_uri": "https://localhost:8080/"
        },
        "id": "79xQPx6P7aq2",
        "outputId": "9888c719-d925-43e9-ec94-f77f59cec3bd"
      },
      "execution_count": 102,
      "outputs": [
        {
          "output_type": "stream",
          "name": "stdout",
          "text": [
            "[10, 11]\n"
          ]
        }
      ]
    },
    {
      "cell_type": "code",
      "source": [
        "print(varList[2:-2])"
      ],
      "metadata": {
        "colab": {
          "base_uri": "https://localhost:8080/"
        },
        "id": "rgoLxRTK7ikd",
        "outputId": "a91bb3c8-21c0-4bbc-aee9-ced4470ab026"
      },
      "execution_count": 103,
      "outputs": [
        {
          "output_type": "stream",
          "name": "stdout",
          "text": [
            "[3, 4, 5, 6, 7, 8, 9]\n"
          ]
        }
      ]
    },
    {
      "cell_type": "code",
      "source": [
        "print(varList[2:9:2])"
      ],
      "metadata": {
        "colab": {
          "base_uri": "https://localhost:8080/"
        },
        "id": "gD98_JgK7npl",
        "outputId": "4ce399a1-c3a7-4896-a6aa-762b168335d7"
      },
      "execution_count": 107,
      "outputs": [
        {
          "output_type": "stream",
          "name": "stdout",
          "text": [
            "[3, 5, 7, 9]\n"
          ]
        }
      ]
    }
  ]
}