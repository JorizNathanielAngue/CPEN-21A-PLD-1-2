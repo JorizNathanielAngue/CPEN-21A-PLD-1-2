{
  "nbformat": 4,
  "nbformat_minor": 0,
  "metadata": {
    "colab": {
      "provenance": [],
      "authorship_tag": "ABX9TyOpGyifCU1sVrkWC+jvHozu",
      "include_colab_link": true
    },
    "kernelspec": {
      "name": "python3",
      "display_name": "Python 3"
    },
    "language_info": {
      "name": "python"
    }
  },
  "cells": [
    {
      "cell_type": "markdown",
      "metadata": {
        "id": "view-in-github",
        "colab_type": "text"
      },
      "source": [
        "<a href=\"https://colab.research.google.com/github/JorizNathanielAngue/CPEN-21A-PLD-1-2/blob/main/Intro_to_Python.ipynb\" target=\"_parent\"><img src=\"https://colab.research.google.com/assets/colab-badge.svg\" alt=\"Open In Colab\"/></a>"
      ]
    },
    {
      "cell_type": "code",
      "execution_count": null,
      "metadata": {
        "id": "g9VF7zREzycR"
      },
      "outputs": [],
      "source": []
    },
    {
      "cell_type": "markdown",
      "source": [
        "#Indentation\n",
        "###(Sorry po Ma'am, hindi po ako naka-attend ng online meet kaya ngayon ko lang po nagawa ang activity habang nanonood ng recorded meet. I humbly ask for your kind consideration, thank you.) \n"
      ],
      "metadata": {
        "id": "FEcrzq8Zz1rI"
      }
    },
    {
      "cell_type": "code",
      "source": [
        "if 10>7:\n",
        "  print(\"10 is greater than 7\")"
      ],
      "metadata": {
        "colab": {
          "base_uri": "https://localhost:8080/"
        },
        "id": "HUWREUZH0ZBT",
        "outputId": "e532d6eb-0737-4623-f8e1-a89a13b36d4e"
      },
      "execution_count": 1,
      "outputs": [
        {
          "output_type": "stream",
          "name": "stdout",
          "text": [
            "10 is greater than 7\n"
          ]
        }
      ]
    },
    {
      "cell_type": "markdown",
      "source": [
        "#Variable Declaration"
      ],
      "metadata": {
        "id": "Dk3eOTZP0uHu"
      }
    },
    {
      "cell_type": "code",
      "source": [
        "#variable with single value\n",
        "\n",
        "x=9\n",
        "y=4\n",
        "if x>y:\n",
        "  print(\"x is greater than y\")\n",
        "else:\n",
        "  print(\"y is greater than x\")"
      ],
      "metadata": {
        "colab": {
          "base_uri": "https://localhost:8080/"
        },
        "id": "jZagvGZ61D4O",
        "outputId": "5b2ded36-5b42-46de-823a-b610882d8009"
      },
      "execution_count": 2,
      "outputs": [
        {
          "output_type": "stream",
          "name": "stdout",
          "text": [
            "x is greater than y\n"
          ]
        }
      ]
    },
    {
      "cell_type": "code",
      "source": [
        "#variable with multiple values\n",
        "\n",
        "a,b=4,6\n",
        "a\n",
        "b\n",
        "print(a)\n",
        "print(b)\n",
        "print(\"the value of a is\",a)\n",
        "print(\"the value of b is\",b)"
      ],
      "metadata": {
        "colab": {
          "base_uri": "https://localhost:8080/"
        },
        "id": "qacpeIF11Y4G",
        "outputId": "ce4f5f3b-a2f6-49a4-bdd3-5fedc4085aac"
      },
      "execution_count": 3,
      "outputs": [
        {
          "output_type": "stream",
          "name": "stdout",
          "text": [
            "4\n",
            "6\n",
            "the value of a is 4\n",
            "the value of b is 6\n"
          ]
        }
      ]
    },
    {
      "cell_type": "code",
      "source": [
        "#multiple variables with single value\n",
        "\n",
        "d=e=h=\"Antifragile\"\n",
        "print(d)\n",
        "print(e)\n",
        "print(h)"
      ],
      "metadata": {
        "colab": {
          "base_uri": "https://localhost:8080/"
        },
        "id": "5WFfdDfq5RMX",
        "outputId": "2e1807ea-f119-4d2d-9a62-7e7e777d85e0"
      },
      "execution_count": 8,
      "outputs": [
        {
          "output_type": "stream",
          "name": "stdout",
          "text": [
            "Antifragile\n",
            "Antifragile\n",
            "Antifragile\n"
          ]
        }
      ]
    },
    {
      "cell_type": "code",
      "source": [
        "#Output Variable\n",
        "\n",
        "i=\"Panorama\"\n",
        "print(\"Shoot, take a\"+\" \"+ i)\n",
        "\n",
        "j='La Vie'\n",
        "k='En Rose'\n",
        "print(j+\" \"+k)\n",
        "\n",
        "l=(j+\" \"+k)\n",
        "print(l)"
      ],
      "metadata": {
        "colab": {
          "base_uri": "https://localhost:8080/"
        },
        "id": "18ImA2GA70yq",
        "outputId": "843a25ea-4f46-4eb9-a2e8-896161448000"
      },
      "execution_count": 12,
      "outputs": [
        {
          "output_type": "stream",
          "name": "stdout",
          "text": [
            "Shoot, take a Panorama\n",
            "La Vie En Rose\n",
            "La Vie En Rose\n"
          ]
        }
      ]
    },
    {
      "cell_type": "markdown",
      "source": [
        "#Casting and Type() Function"
      ],
      "metadata": {
        "id": "TXR75PDM2VD_"
      }
    },
    {
      "cell_type": "code",
      "source": [
        "f=int(1)      #integer\n",
        "g=float(1)    #decimal/fractional\n",
        "\n",
        "print(f)\n",
        "print(g)\n",
        "print(type(f))\n",
        "print(type(g))\n"
      ],
      "metadata": {
        "colab": {
          "base_uri": "https://localhost:8080/"
        },
        "id": "JaSYEQ_g2cgr",
        "outputId": "ba23ae28-80e0-49a2-a121-d259b6b0c855"
      },
      "execution_count": 5,
      "outputs": [
        {
          "output_type": "stream",
          "name": "stdout",
          "text": [
            "1\n",
            "1.0\n",
            "<class 'int'>\n",
            "<class 'float'>\n"
          ]
        }
      ]
    },
    {
      "cell_type": "markdown",
      "source": [
        "#Double or Single Quote"
      ],
      "metadata": {
        "id": "biWJ3_Yu3vBQ"
      }
    },
    {
      "cell_type": "code",
      "source": [
        "name1=\"Joriz\"\n",
        "name2='Nathaniel'\n",
        "\n",
        "print(name1)\n",
        "print(name2)"
      ],
      "metadata": {
        "colab": {
          "base_uri": "https://localhost:8080/"
        },
        "id": "o0gnNjkT3ymO",
        "outputId": "a5ee6207-5145-45a9-e491-c0f823ffdf7e"
      },
      "execution_count": 6,
      "outputs": [
        {
          "output_type": "stream",
          "name": "stdout",
          "text": [
            "Joriz\n",
            "Nathaniel\n"
          ]
        }
      ]
    },
    {
      "cell_type": "markdown",
      "source": [
        "#Case Sensitive"
      ],
      "metadata": {
        "id": "ud-vPiCS4TM5"
      }
    },
    {
      "cell_type": "code",
      "source": [
        "C=\"Conan\"\n",
        "c=\"Edogawa\"\n",
        "\n",
        "print(C)\n",
        "print(c)"
      ],
      "metadata": {
        "colab": {
          "base_uri": "https://localhost:8080/"
        },
        "id": "nHsWmjnA4y0_",
        "outputId": "96c900d1-4875-4d47-e22a-8b59595dc007"
      },
      "execution_count": 7,
      "outputs": [
        {
          "output_type": "stream",
          "name": "stdout",
          "text": [
            "Conan\n",
            "Edogawa\n"
          ]
        }
      ]
    },
    {
      "cell_type": "markdown",
      "source": [
        "M"
      ],
      "metadata": {
        "id": "-optifpw5Dh-"
      }
    }
  ]
}