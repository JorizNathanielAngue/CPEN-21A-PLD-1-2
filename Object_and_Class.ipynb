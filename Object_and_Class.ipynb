{
  "nbformat": 4,
  "nbformat_minor": 0,
  "metadata": {
    "colab": {
      "provenance": [],
      "authorship_tag": "ABX9TyPH+Gd5GeJWHLDCyr68iObV",
      "include_colab_link": true
    },
    "kernelspec": {
      "name": "python3",
      "display_name": "Python 3"
    },
    "language_info": {
      "name": "python"
    }
  },
  "cells": [
    {
      "cell_type": "markdown",
      "metadata": {
        "id": "view-in-github",
        "colab_type": "text"
      },
      "source": [
        "<a href=\"https://colab.research.google.com/github/JorizNathanielAngue/CPEN-21A-PLD-1-2/blob/main/Object_and_Class.ipynb\" target=\"_parent\"><img src=\"https://colab.research.google.com/assets/colab-badge.svg\" alt=\"Open In Colab\"/></a>"
      ]
    },
    {
      "cell_type": "code",
      "execution_count": 26,
      "metadata": {
        "colab": {
          "base_uri": "https://localhost:8080/"
        },
        "id": "vcMxFIzajmyo",
        "outputId": "cb9c395b-2cb9-4ff7-c7df-c4b889e79633"
      },
      "outputs": [
        {
          "output_type": "stream",
          "name": "stdout",
          "text": [
            "My personal info are all here\n"
          ]
        }
      ],
      "source": [
        "class Person:\n",
        "  def __init__(self,name,age,birthdate):           #object and class constructor\n",
        "    self.name = name\n",
        "    self.age = age\n",
        "    self.birthdate = birthdate\n",
        "\n",
        "  def info(self):\n",
        "    return\"My personal info are all here\"               #method constructor\n",
        "\n",
        "class Student (Person):                                 #inheritance\n",
        "  pass\n",
        "\n",
        "person = Student(\"Joriz\",18, \"September 03, 2004\")     #naming objects\n",
        "  \n",
        "print(person.info())   "
      ]
    },
    {
      "cell_type": "markdown",
      "source": [
        "##Exercise 1\n",
        "#Write a Python program that:\n",
        "  #Use Shape as parent class, Rectangle as child class with length and width attributes\n",
        "  #Use Perimeter() and Area() to compute for the perimeter and area of the rectangle"
      ],
      "metadata": {
        "id": "y4yyjCb0szZy"
      }
    },
    {
      "cell_type": "code",
      "source": [
        "class Shape:\n",
        "  def __init__(shape, length, width):   \n",
        "    shape.length = length\n",
        "    shape.width = width\n",
        "\n",
        "  def Perimeter(shape):\n",
        "    return\"The perimeter is, (2*(length+=width))\"               \n",
        "  def Area(shape):\n",
        "    return\"The area is, (length*width)\"               \n",
        "\n",
        "class Rectangle (Shape):                        \n",
        "  pass\n",
        "\n",
        "shape1 = Rectangle(12,5)\n",
        "  \n",
        "print(Perimeter(shape)) \n",
        "print(Area(shape))  "
      ],
      "metadata": {
        "id": "M697rMwyt7Zf"
      },
      "execution_count": null,
      "outputs": []
    }
  ]
}