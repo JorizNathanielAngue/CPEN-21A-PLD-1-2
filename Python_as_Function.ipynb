{
  "nbformat": 4,
  "nbformat_minor": 0,
  "metadata": {
    "colab": {
      "provenance": [],
      "authorship_tag": "ABX9TyPHRq/CFrqa4K05Lxo3oTDd",
      "include_colab_link": true
    },
    "kernelspec": {
      "name": "python3",
      "display_name": "Python 3"
    },
    "language_info": {
      "name": "python"
    }
  },
  "cells": [
    {
      "cell_type": "markdown",
      "metadata": {
        "id": "view-in-github",
        "colab_type": "text"
      },
      "source": [
        "<a href=\"https://colab.research.google.com/github/JorizNathanielAngue/CPEN-21A-PLD-1-2/blob/main/Python_as_Function.ipynb\" target=\"_parent\"><img src=\"https://colab.research.google.com/assets/colab-badge.svg\" alt=\"Open In Colab\"/></a>"
      ]
    },
    {
      "cell_type": "markdown",
      "source": [
        "## Function Calls"
      ],
      "metadata": {
        "id": "LYlYRSXEHasY"
      }
    },
    {
      "cell_type": "code",
      "source": [
        "abs(-4.5)"
      ],
      "metadata": {
        "colab": {
          "base_uri": "https://localhost:8080/"
        },
        "id": "zwrG7DI6Hn8_",
        "outputId": "b318e0a4-7579-4d2c-b75b-189ea39635a5"
      },
      "execution_count": 6,
      "outputs": [
        {
          "output_type": "execute_result",
          "data": {
            "text/plain": [
              "9"
            ]
          },
          "metadata": {},
          "execution_count": 6
        }
      ]
    },
    {
      "cell_type": "markdown",
      "source": [
        "##Function calls another function"
      ],
      "metadata": {
        "id": "554sYkIOJT2I"
      }
    },
    {
      "cell_type": "code",
      "source": [
        "pow(abs(-2), round(4.5))"
      ],
      "metadata": {
        "colab": {
          "base_uri": "https://localhost:8080/"
        },
        "id": "A8QwznnGIEU3",
        "outputId": "40d05257-9e61-4ec1-e82f-078c6ac0578b"
      },
      "execution_count": 12,
      "outputs": [
        {
          "output_type": "execute_result",
          "data": {
            "text/plain": [
              "16"
            ]
          },
          "metadata": {},
          "execution_count": 12
        }
      ]
    },
    {
      "cell_type": "markdown",
      "source": [
        "##Type code Function"
      ],
      "metadata": {
        "id": "WGiV_RysJbbg"
      }
    },
    {
      "cell_type": "code",
      "source": [
        "int(34.6)"
      ],
      "metadata": {
        "colab": {
          "base_uri": "https://localhost:8080/"
        },
        "id": "WAm2CrXOIXsv",
        "outputId": "7c0c8bfb-d9c1-49bf-9a5d-304734f3b744"
      },
      "execution_count": 10,
      "outputs": [
        {
          "output_type": "execute_result",
          "data": {
            "text/plain": [
              "34"
            ]
          },
          "metadata": {},
          "execution_count": 10
        }
      ]
    },
    {
      "cell_type": "code",
      "source": [
        "float(21)"
      ],
      "metadata": {
        "colab": {
          "base_uri": "https://localhost:8080/"
        },
        "id": "HwN4O6HsIjOH",
        "outputId": "0f93e4b8-4adc-40c3-943b-5c68ffd0d5ae"
      },
      "execution_count": 11,
      "outputs": [
        {
          "output_type": "execute_result",
          "data": {
            "text/plain": [
              "21.0"
            ]
          },
          "metadata": {},
          "execution_count": 11
        }
      ]
    },
    {
      "cell_type": "markdown",
      "source": [
        "##Defining own function"
      ],
      "metadata": {
        "id": "xD4P1DdGpsCs"
      }
    },
    {
      "cell_type": "code",
      "source": [
        "def convert_to_celsius(fahrenheit): \n",
        "  celsius = ((fahrenheit-32)*(5/9))\n",
        "  return(celsius)\n",
        "\n",
        "fahrenheit = float(input(\"Enter a number in Fahrenheit:\"))\n",
        "a=convert_to_celsius(fahrenheit)\n",
        "print(round(a,2))\n",
        "\n"
      ],
      "metadata": {
        "id": "fJ4TAs3Epw7S",
        "colab": {
          "base_uri": "https://localhost:8080/"
        },
        "outputId": "07d66464-2ecc-45a7-de5c-05b0bda8053c"
      },
      "execution_count": 35,
      "outputs": [
        {
          "output_type": "stream",
          "name": "stdout",
          "text": [
            "Enter a number in Fahrenheit:164\n",
            "73.33\n"
          ]
        }
      ]
    },
    {
      "cell_type": "markdown",
      "source": [
        "#Exercise"
      ],
      "metadata": {
        "id": "h2L7gDc5SZsW"
      }
    },
    {
      "cell_type": "markdown",
      "source": [
        "###1"
      ],
      "metadata": {
        "id": "O_0GHLT1S1ST"
      }
    },
    {
      "cell_type": "code",
      "source": [
        "min(2,3,4)"
      ],
      "metadata": {
        "colab": {
          "base_uri": "https://localhost:8080/"
        },
        "id": "F_M9MNy8Sfw0",
        "outputId": "8c700200-17f0-47c0-bbdb-5aa15460c11c"
      },
      "execution_count": 40,
      "outputs": [
        {
          "output_type": "execute_result",
          "data": {
            "text/plain": [
              "2"
            ]
          },
          "metadata": {},
          "execution_count": 40
        }
      ]
    },
    {
      "cell_type": "code",
      "source": [
        "max(2, -3, 4, 7, -5)"
      ],
      "metadata": {
        "colab": {
          "base_uri": "https://localhost:8080/"
        },
        "id": "qjk2SiNySxc8",
        "outputId": "f3ac17a8-6974-43e1-e3ff-6231dee2ede9"
      },
      "execution_count": 39,
      "outputs": [
        {
          "output_type": "execute_result",
          "data": {
            "text/plain": [
              "7"
            ]
          },
          "metadata": {},
          "execution_count": 39
        }
      ]
    },
    {
      "cell_type": "code",
      "source": [
        "max(2, 3, min(4,7), -5)"
      ],
      "metadata": {
        "colab": {
          "base_uri": "https://localhost:8080/"
        },
        "id": "crTyYM1XSyZJ",
        "outputId": "2b93bf52-573c-462a-f1a1-df242a3836c5"
      },
      "execution_count": 38,
      "outputs": [
        {
          "output_type": "execute_result",
          "data": {
            "text/plain": [
              "4"
            ]
          },
          "metadata": {},
          "execution_count": 38
        }
      ]
    }
  ]
}